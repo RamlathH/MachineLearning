{
  "nbformat": 4,
  "nbformat_minor": 0,
  "metadata": {
    "colab": {
      "name": "KNN fruits.ipynb",
      "version": "0.3.2",
      "provenance": [],
      "collapsed_sections": []
    },
    "kernelspec": {
      "name": "python3",
      "display_name": "Python 3"
    }
  },
  "cells": [
    {
      "cell_type": "code",
      "metadata": {
        "id": "81PTqU2qrbMe",
        "colab_type": "code",
        "colab": {}
      },
      "source": [
        "# Assigning features and label variables\n",
        "# First Feature\n",
        "color= ['Red','Red','Orange','Red','Green','Red','Red','Green','Green','Red',\n",
        "        'Green','Red','Red','Red','Red','Red','Orange','Red','Orange','Red','Red',\n",
        "        'Red','Red','Green','Orange','Red','Green','Green','Red','Red']\n",
        "# Second Feature\n",
        "weight=['70','100','28','3','100','100','3','70','70','7',\n",
        "        '27','7','28','7','70','27','28','3','28','7','100',\n",
        "        '3','7','70','28','7','28','100','27','27']\n",
        "# Third Feature\n",
        "size= ['Small','Big','Medium','Small','Big','Big','Small','Small','Small','Small',\n",
        "        'Medium','Small','Medium','Small','Small','Medium','Medium','Small','Medium','Small',\n",
        "        'Big','Small','Small','Small','Medium','Small','Medium','Big','Medium','Medium']"
      ],
      "execution_count": 0,
      "outputs": []
    },
    {
      "cell_type": "code",
      "metadata": {
        "id": "ETVQb64BrlSh",
        "colab_type": "code",
        "colab": {}
      },
      "source": [
        "# Label or target varible\n",
        "fruits=['Apple','Apple','Plums','Cherry','Apple','Apple','Cherry','Apple','Apple','Cherry',\n",
        "        'Plums','Cherry','Plums','Cherry','Apple','Plums','Plums','Cherry','Plums','Cherry',\n",
        "        'Apple','Cherry','Cherry','Apple','Plums','Cherry','Plums','Apple','Plums','Plums']"
      ],
      "execution_count": 0,
      "outputs": []
    },
    {
      "cell_type": "code",
      "metadata": {
        "id": "DAdwqfN5rlWG",
        "colab_type": "code",
        "colab": {
          "base_uri": "https://localhost:8080/",
          "height": 71
        },
        "outputId": "c573dd1d-b326-4d03-d402-480c229d49bc"
      },
      "source": [
        "# Import LabelEncoder\n",
        "from sklearn import preprocessing\n",
        "\n",
        "#creating labelEncoder\n",
        "le = preprocessing.LabelEncoder()\n",
        "\n",
        "# Converting string labels into numbers.\n",
        "color_encoded=le.fit_transform(color)\n",
        "print(color)\n",
        "print(color_encoded)"
      ],
      "execution_count": 20,
      "outputs": [
        {
          "output_type": "stream",
          "text": [
            "['Red', 'Red', 'Orange', 'Red', 'Green', 'Red', 'Red', 'Green', 'Green', 'Red', 'Green', 'Red', 'Red', 'Red', 'Red', 'Red', 'Orange', 'Red', 'Orange', 'Red', 'Red', 'Red', 'Red', 'Green', 'Orange', 'Red', 'Green', 'Green', 'Red', 'Red']\n",
            "[2 2 1 2 0 2 2 0 0 2 0 2 2 2 2 2 1 2 1 2 2 2 2 0 1 2 0 0 2 2]\n"
          ],
          "name": "stdout"
        }
      ]
    },
    {
      "cell_type": "code",
      "metadata": {
        "id": "KqRt6IbD4chg",
        "colab_type": "code",
        "colab": {
          "base_uri": "https://localhost:8080/",
          "height": 71
        },
        "outputId": "9f004354-4023-44e8-c75f-9940d1951ade"
      },
      "source": [
        "weight_encoded=le.fit_transform(weight)\n",
        "print(weight)\n",
        "print(weight_encoded)"
      ],
      "execution_count": 21,
      "outputs": [
        {
          "output_type": "stream",
          "text": [
            "['70', '100', '28', '3', '100', '100', '3', '70', '70', '7', '27', '7', '28', '7', '70', '27', '28', '3', '28', '7', '100', '3', '7', '70', '28', '7', '28', '100', '27', '27']\n",
            "[5 0 2 3 0 0 3 5 5 4 1 4 2 4 5 1 2 3 2 4 0 3 4 5 2 4 2 0 1 1]\n"
          ],
          "name": "stdout"
        }
      ]
    },
    {
      "cell_type": "code",
      "metadata": {
        "id": "rR3GoDwCrlbj",
        "colab_type": "code",
        "colab": {
          "base_uri": "https://localhost:8080/",
          "height": 71
        },
        "outputId": "6e97878c-25f1-41bb-b720-104521ca564b"
      },
      "source": [
        "size_encoded=le.fit_transform(size)\n",
        "print(size)\n",
        "print(size_encoded)"
      ],
      "execution_count": 22,
      "outputs": [
        {
          "output_type": "stream",
          "text": [
            "['Small', 'Big', 'Medium', 'Small', 'Big', 'Big', 'Small', 'Small', 'Small', 'Small', 'Medium', 'Small', 'Medium', 'Small', 'Small', 'Medium', 'Medium', 'Small', 'Medium', 'Small', 'Big', 'Small', 'Small', 'Small', 'Medium', 'Small', 'Medium', 'Big', 'Medium', 'Medium']\n",
            "[2 0 1 2 0 0 2 2 2 2 1 2 1 2 2 1 1 2 1 2 0 2 2 2 1 2 1 0 1 1]\n"
          ],
          "name": "stdout"
        }
      ]
    },
    {
      "cell_type": "code",
      "metadata": {
        "id": "SqJvKEd-rlXz",
        "colab_type": "code",
        "colab": {
          "base_uri": "https://localhost:8080/",
          "height": 68
        },
        "outputId": "43e41086-80b3-4984-c97a-d1d8c820bdb9"
      },
      "source": [
        "#target or label\n",
        "label=le.fit_transform(fruits)\n",
        "print(fruits)\n",
        "label\n"
      ],
      "execution_count": 25,
      "outputs": [
        {
          "output_type": "stream",
          "text": [
            "[0 0 2 1 0 0 1 0 0 1 2 1 2 1 0 2 2 1 2 1 0 1 1 0 2 1 2 0 2 2]\n"
          ],
          "name": "stdout"
        },
        {
          "output_type": "execute_result",
          "data": {
            "text/plain": [
              "array([0, 0, 2, 1, 0, 0, 1, 0, 0, 1, 2, 1, 2, 1, 0, 2, 2, 1, 2, 1, 0, 1,\n",
              "       1, 0, 2, 1, 2, 0, 2, 2])"
            ]
          },
          "metadata": {
            "tags": []
          },
          "execution_count": 25
        }
      ]
    },
    {
      "cell_type": "code",
      "metadata": {
        "id": "3bz6SWfgrleJ",
        "colab_type": "code",
        "colab": {
          "base_uri": "https://localhost:8080/",
          "height": 527
        },
        "outputId": "f5c0ba2a-1e50-45de-a9d5-2f026dd96ac3"
      },
      "source": [
        "#combining color weight and size into  single list of tuples\n",
        "features=list(zip(color_encoded,weight_encoded,size_encoded))\n",
        "features"
      ],
      "execution_count": 24,
      "outputs": [
        {
          "output_type": "execute_result",
          "data": {
            "text/plain": [
              "[(2, 5, 2),\n",
              " (2, 0, 0),\n",
              " (1, 2, 1),\n",
              " (2, 3, 2),\n",
              " (0, 0, 0),\n",
              " (2, 0, 0),\n",
              " (2, 3, 2),\n",
              " (0, 5, 2),\n",
              " (0, 5, 2),\n",
              " (2, 4, 2),\n",
              " (0, 1, 1),\n",
              " (2, 4, 2),\n",
              " (2, 2, 1),\n",
              " (2, 4, 2),\n",
              " (2, 5, 2),\n",
              " (2, 1, 1),\n",
              " (1, 2, 1),\n",
              " (2, 3, 2),\n",
              " (1, 2, 1),\n",
              " (2, 4, 2),\n",
              " (2, 0, 0),\n",
              " (2, 3, 2),\n",
              " (2, 4, 2),\n",
              " (0, 5, 2),\n",
              " (1, 2, 1),\n",
              " (2, 4, 2),\n",
              " (0, 2, 1),\n",
              " (0, 0, 0),\n",
              " (2, 1, 1),\n",
              " (2, 1, 1)]"
            ]
          },
          "metadata": {
            "tags": []
          },
          "execution_count": 24
        }
      ]
    },
    {
      "cell_type": "code",
      "metadata": {
        "id": "BVzRJ1ucrljd",
        "colab_type": "code",
        "colab": {
          "base_uri": "https://localhost:8080/",
          "height": 68
        },
        "outputId": "b0a11cdc-14fe-4fb1-baf6-35bac2403b93"
      },
      "source": [
        "from sklearn.neighbors import KNeighborsClassifier\n",
        "\n",
        "model = KNeighborsClassifier(n_neighbors=3)\n",
        "\n",
        "# Train the model using the training sets\n",
        "model.fit(features,label)"
      ],
      "execution_count": 26,
      "outputs": [
        {
          "output_type": "execute_result",
          "data": {
            "text/plain": [
              "KNeighborsClassifier(algorithm='auto', leaf_size=30, metric='minkowski',\n",
              "                     metric_params=None, n_jobs=None, n_neighbors=3, p=2,\n",
              "                     weights='uniform')"
            ]
          },
          "metadata": {
            "tags": []
          },
          "execution_count": 26
        }
      ]
    },
    {
      "cell_type": "code",
      "metadata": {
        "id": "78gLrxLurlgC",
        "colab_type": "code",
        "colab": {
          "base_uri": "https://localhost:8080/",
          "height": 34
        },
        "outputId": "847efa86-fed0-4560-fcbc-c4b27ab01206"
      },
      "source": [
        "#predicting the fruit\n",
        "predicted= model.predict([[1,2,1]]) # 0:Overcast, 2:Mild\n",
        "print(predicted)"
      ],
      "execution_count": 28,
      "outputs": [
        {
          "output_type": "stream",
          "text": [
            "[2]\n"
          ],
          "name": "stdout"
        }
      ]
    },
    {
      "cell_type": "code",
      "metadata": {
        "id": "XX9FKHqzrlmB",
        "colab_type": "code",
        "colab": {}
      },
      "source": [
        ""
      ],
      "execution_count": 0,
      "outputs": []
    }
  ]
}