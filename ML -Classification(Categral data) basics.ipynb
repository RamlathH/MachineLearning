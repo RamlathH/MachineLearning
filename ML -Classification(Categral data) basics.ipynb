{
 "cells": [
  {
   "cell_type": "code",
   "execution_count": 73,
   "metadata": {},
   "outputs": [],
   "source": [
    "#metrics for measure the performance of the algorithm\n",
    "import pandas as pd\n",
    "import numpy as np \n",
    "import math\n",
    "from datetime import datetime\n",
    "\n",
    "import seaborn as sns\n",
    "import matplotlib.pyplot as plt\n",
    "%matplotlib inline\n",
    "plt.style.use('seaborn-whitegrid')\n",
    "\n",
    "from sklearn.linear_model import LogisticRegression\n",
    "from sklearn.metrics import classification_report\n",
    "from sklearn.metrics import confusion_matrix\n"
   ]
  },
  {
   "cell_type": "code",
   "execution_count": 60,
   "metadata": {},
   "outputs": [
    {
     "name": "stdout",
     "output_type": "stream",
     "text": [
      "<bound method NDFrame.head of       hours_per_week_bin occupation_bin  msr_bin capital_gl_bin race_sex_bin  \\\n",
      "0               b. 31-40   b. Mid - Low   b. Mid         c. > 0      c. High   \n",
      "1                a. 0-30        e. High  c. High         a. = 0      c. High   \n",
      "2               b. 31-40         a. Low   b. Mid         a. = 0      c. High   \n",
      "3               b. 31-40         a. Low  c. High         a. = 0       b. Mid   \n",
      "4               b. 31-40        e. High  c. High         a. = 0       a. Low   \n",
      "5               b. 31-40        e. High  c. High         a. = 0       b. Mid   \n",
      "6                a. 0-30         a. Low   b. Mid         a. = 0       a. Low   \n",
      "7       d. 41-50 & 61-70        e. High  c. High         a. = 0      c. High   \n",
      "8       d. 41-50 & 61-70        e. High   b. Mid         c. > 0       b. Mid   \n",
      "9               b. 31-40        e. High  c. High         c. > 0      c. High   \n",
      "10             c. 71-100        e. High  c. High         a. = 0       b. Mid   \n",
      "11              b. 31-40        e. High  c. High         a. = 0      c. High   \n",
      "12               a. 0-30   b. Mid - Low   a. Low         a. = 0       b. Mid   \n",
      "13      d. 41-50 & 61-70   c. Mid - Mid   b. Mid         a. = 0       b. Mid   \n",
      "14              b. 31-40   c. Mid - Mid  c. High         a. = 0      c. High   \n",
      "15      d. 41-50 & 61-70   c. Mid - Mid  c. High         a. = 0       b. Mid   \n",
      "16              b. 31-40   b. Mid - Low   a. Low         a. = 0      c. High   \n",
      "17              b. 31-40   b. Mid - Low   a. Low         a. = 0      c. High   \n",
      "18      d. 41-50 & 61-70   c. Mid - Mid  c. High         a. = 0      c. High   \n",
      "19      d. 41-50 & 61-70        e. High   b. Mid         a. = 0       b. Mid   \n",
      "20              e. 51-60        e. High  c. High         a. = 0      c. High   \n",
      "21               a. 0-30         a. Low   a. Low         a. = 0       a. Low   \n",
      "22              b. 31-40   b. Mid - Low  c. High         a. = 0       b. Mid   \n",
      "23              b. 31-40   c. Mid - Mid  c. High         b. < 0      c. High   \n",
      "24              b. 31-40  d. Mid - High   b. Mid         a. = 0       b. Mid   \n",
      "25              b. 31-40  d. Mid - High  c. High         a. = 0      c. High   \n",
      "26              b. 31-40   c. Mid - Mid   a. Low         a. = 0      c. High   \n",
      "27              e. 51-60   b. Mid - Low  c. High         a. = 0      c. High   \n",
      "28             c. 71-100        e. High   b. Mid         a. = 0      c. High   \n",
      "29              b. 31-40   c. Mid - Mid  c. High         a. = 0      c. High   \n",
      "...                  ...            ...      ...            ...          ...   \n",
      "48812            a. 0-30   b. Mid - Low  c. High         c. > 0      c. High   \n",
      "48813           b. 31-40        e. High  c. High         c. > 0      c. High   \n",
      "48814           b. 31-40  d. Mid - High   b. Mid         b. < 0       b. Mid   \n",
      "48815   d. 41-50 & 61-70        e. High  c. High         a. = 0      c. High   \n",
      "48816   d. 41-50 & 61-70        e. High  c. High         b. < 0      c. High   \n",
      "48817           b. 31-40   b. Mid - Low   a. Low         a. = 0      c. High   \n",
      "48818           b. 31-40        e. High   b. Mid         a. = 0       b. Mid   \n",
      "48819           b. 31-40  d. Mid - High  c. High         a. = 0      c. High   \n",
      "48820            a. 0-30   c. Mid - Mid   a. Low         a. = 0       b. Mid   \n",
      "48821   d. 41-50 & 61-70   c. Mid - Mid   b. Mid         a. = 0       b. Mid   \n",
      "48822           e. 51-60        e. High  c. High         c. > 0      c. High   \n",
      "48823           b. 31-40   c. Mid - Mid  c. High         a. = 0      c. High   \n",
      "48824           b. 31-40   c. Mid - Mid   a. Low         a. = 0      c. High   \n",
      "48825           b. 31-40   b. Mid - Low   b. Mid         a. = 0      c. High   \n",
      "48826           b. 31-40        e. High  c. High         a. = 0       b. Mid   \n",
      "48827           b. 31-40         a. Low   b. Mid         a. = 0       b. Mid   \n",
      "48828           b. 31-40   b. Mid - Low   a. Low         a. = 0       a. Low   \n",
      "48829           b. 31-40        e. High   b. Mid         a. = 0      c. High   \n",
      "48830           b. 31-40         a. Low  c. High         a. = 0      c. High   \n",
      "48831           b. 31-40   b. Mid - Low  c. High         a. = 0      c. High   \n",
      "48832   d. 41-50 & 61-70   c. Mid - Mid  c. High         a. = 0      c. High   \n",
      "48833           b. 31-40   c. Mid - Mid  c. High         a. = 0      c. High   \n",
      "48834           b. 31-40         a. Low   a. Low         a. = 0       b. Mid   \n",
      "48835           b. 31-40         a. Low   b. Mid         a. = 0      c. High   \n",
      "48836           b. 31-40        e. High   a. Low         a. = 0      c. High   \n",
      "48837           b. 31-40        e. High   b. Mid         a. = 0       b. Mid   \n",
      "48838           b. 31-40   b. Mid - Low   a. Low         a. = 0       b. Mid   \n",
      "48839   d. 41-50 & 61-70        e. High  c. High         a. = 0      c. High   \n",
      "48840           b. 31-40   b. Mid - Low   a. Low         c. > 0      c. High   \n",
      "48841           e. 51-60        e. High  c. High         a. = 0      c. High   \n",
      "\n",
      "      education_num_bin education_bin workclass_bin            age_bin   flag  \\\n",
      "0                 c. 13  c. Bachelors     b. income   d. 36-40 & 56-60  train   \n",
      "1                 c. 13  c. Bachelors     b. income           e. 40-55  train   \n",
      "2               b. 9-12        b. Mid     b. income   d. 36-40 & 56-60  train   \n",
      "3                a. 0-8        a. Low     b. income           e. 40-55  train   \n",
      "4                 c. 13  c. Bachelors     b. income  b. 26-30 & 71-100  train   \n",
      "5                 d. 14    d. Masters     b. income   d. 36-40 & 56-60  train   \n",
      "6                a. 0-8        a. Low     b. income           e. 40-55  train   \n",
      "7               b. 9-12        b. Mid     b. income           e. 40-55  train   \n",
      "8                 d. 14    d. Masters     b. income   c. 31-35 & 61-70  train   \n",
      "9                 c. 13  c. Bachelors     b. income           e. 40-55  train   \n",
      "10              b. 9-12        b. Mid     b. income   d. 36-40 & 56-60  train   \n",
      "11                c. 13  c. Bachelors     b. income  b. 26-30 & 71-100  train   \n",
      "12                c. 13  c. Bachelors     b. income            a. 0-25  train   \n",
      "13              b. 9-12        b. Mid     b. income   c. 31-35 & 61-70  train   \n",
      "14              b. 9-12        b. Mid     b. income   d. 36-40 & 56-60  train   \n",
      "15               a. 0-8        a. Low     b. income   c. 31-35 & 61-70  train   \n",
      "16              b. 9-12        b. Mid     b. income            a. 0-25  train   \n",
      "17              b. 9-12        b. Mid     b. income   c. 31-35 & 61-70  train   \n",
      "18               a. 0-8        a. Low     b. income   d. 36-40 & 56-60  train   \n",
      "19                d. 14    d. Masters     b. income           e. 40-55  train   \n",
      "20               e. 15+       e. High     b. income   d. 36-40 & 56-60  train   \n",
      "21              b. 9-12        b. Mid     b. income           e. 40-55  train   \n",
      "22               a. 0-8        a. Low     b. income   c. 31-35 & 61-70  train   \n",
      "23               a. 0-8        a. Low     b. income           e. 40-55  train   \n",
      "24              b. 9-12        b. Mid     b. income   d. 36-40 & 56-60  train   \n",
      "25                c. 13  c. Bachelors     b. income   d. 36-40 & 56-60  train   \n",
      "26              b. 9-12        b. Mid     b. income            a. 0-25  train   \n",
      "27              b. 9-12        b. Mid  a. no income           e. 40-55  train   \n",
      "28              b. 9-12        b. Mid     b. income   d. 36-40 & 56-60  train   \n",
      "29              b. 9-12        b. Mid     b. income           e. 40-55  train   \n",
      "...                 ...           ...           ...                ...    ...   \n",
      "48812           b. 9-12        b. Mid  a. no income  b. 26-30 & 71-100   test   \n",
      "48813           b. 9-12        b. Mid     b. income   d. 36-40 & 56-60   test   \n",
      "48814             c. 13  c. Bachelors     b. income   d. 36-40 & 56-60   test   \n",
      "48815             d. 14    d. Masters     b. income   d. 36-40 & 56-60   test   \n",
      "48816             d. 14    d. Masters     b. income           e. 40-55   test   \n",
      "48817           b. 9-12        b. Mid     b. income            a. 0-25   test   \n",
      "48818           b. 9-12        b. Mid     b. income  b. 26-30 & 71-100   test   \n",
      "48819           b. 9-12        b. Mid     b. income   c. 31-35 & 61-70   test   \n",
      "48820           b. 9-12        b. Mid     b. income   c. 31-35 & 61-70   test   \n",
      "48821           b. 9-12        b. Mid     b. income  b. 26-30 & 71-100   test   \n",
      "48822            e. 15+       e. High     b. income   d. 36-40 & 56-60   test   \n",
      "48823           b. 9-12        b. Mid     b. income           e. 40-55   test   \n",
      "48824           b. 9-12        b. Mid     b. income            a. 0-25   test   \n",
      "48825           b. 9-12        b. Mid     b. income   c. 31-35 & 61-70   test   \n",
      "48826             d. 14    d. Masters     b. income           e. 40-55   test   \n",
      "48827           b. 9-12        b. Mid     b. income           e. 40-55   test   \n",
      "48828           b. 9-12        b. Mid     b. income   d. 36-40 & 56-60   test   \n",
      "48829           b. 9-12        b. Mid     b. income   d. 36-40 & 56-60   test   \n",
      "48830           b. 9-12        b. Mid     b. income   c. 31-35 & 61-70   test   \n",
      "48831           b. 9-12        b. Mid     b. income           e. 40-55   test   \n",
      "48832           b. 9-12        b. Mid     b. income   c. 31-35 & 61-70   test   \n",
      "48833           b. 9-12        b. Mid     b. income   c. 31-35 & 61-70   test   \n",
      "48834           b. 9-12        b. Mid     b. income            a. 0-25   test   \n",
      "48835             d. 14    d. Masters     b. income           e. 40-55   test   \n",
      "48836             c. 13  c. Bachelors     b. income   c. 31-35 & 61-70   test   \n",
      "48837             c. 13  c. Bachelors     b. income   d. 36-40 & 56-60   test   \n",
      "48838           b. 9-12        b. Mid  a. no income   c. 31-35 & 61-70   test   \n",
      "48839             c. 13  c. Bachelors     b. income   d. 36-40 & 56-60   test   \n",
      "48840             c. 13  c. Bachelors     b. income           e. 40-55   test   \n",
      "48841             c. 13  c. Bachelors     b. income   c. 31-35 & 61-70   test   \n",
      "\n",
      "       y  \n",
      "0      0  \n",
      "1      0  \n",
      "2      0  \n",
      "3      0  \n",
      "4      0  \n",
      "5      0  \n",
      "6      0  \n",
      "7      1  \n",
      "8      1  \n",
      "9      1  \n",
      "10     1  \n",
      "11     1  \n",
      "12     0  \n",
      "13     0  \n",
      "14     1  \n",
      "15     0  \n",
      "16     0  \n",
      "17     0  \n",
      "18     0  \n",
      "19     1  \n",
      "20     1  \n",
      "21     0  \n",
      "22     0  \n",
      "23     0  \n",
      "24     0  \n",
      "25     1  \n",
      "26     0  \n",
      "27     1  \n",
      "28     0  \n",
      "29     0  \n",
      "...   ..  \n",
      "48812  0  \n",
      "48813  1  \n",
      "48814  0  \n",
      "48815  1  \n",
      "48816  1  \n",
      "48817  0  \n",
      "48818  0  \n",
      "48819  0  \n",
      "48820  0  \n",
      "48821  0  \n",
      "48822  1  \n",
      "48823  0  \n",
      "48824  0  \n",
      "48825  0  \n",
      "48826  1  \n",
      "48827  0  \n",
      "48828  0  \n",
      "48829  0  \n",
      "48830  0  \n",
      "48831  0  \n",
      "48832  0  \n",
      "48833  0  \n",
      "48834  0  \n",
      "48835  0  \n",
      "48836  0  \n",
      "48837  0  \n",
      "48838  0  \n",
      "48839  0  \n",
      "48840  0  \n",
      "48841  1  \n",
      "\n",
      "[48842 rows x 11 columns]>\n"
     ]
    }
   ],
   "source": [
    "df=pd.read_csv('00 df.csv')\n",
    "print(df.head)"
   ]
  },
  {
   "cell_type": "code",
   "execution_count": 61,
   "metadata": {},
   "outputs": [],
   "source": [
    "#df=df[df['flag']=='train']\n",
    "#df.info()"
   ]
  },
  {
   "cell_type": "code",
   "execution_count": 62,
   "metadata": {},
   "outputs": [],
   "source": [
    "#df=df[df['flag']=='test']\n",
    "#df.info()"
   ]
  },
  {
   "cell_type": "code",
   "execution_count": 63,
   "metadata": {},
   "outputs": [
    {
     "data": {
      "text/html": [
       "<div>\n",
       "<style scoped>\n",
       "    .dataframe tbody tr th:only-of-type {\n",
       "        vertical-align: middle;\n",
       "    }\n",
       "\n",
       "    .dataframe tbody tr th {\n",
       "        vertical-align: top;\n",
       "    }\n",
       "\n",
       "    .dataframe thead th {\n",
       "        text-align: right;\n",
       "    }\n",
       "</style>\n",
       "<table border=\"1\" class=\"dataframe\">\n",
       "  <thead>\n",
       "    <tr style=\"text-align: right;\">\n",
       "      <th></th>\n",
       "      <th>hours_per_week_bin</th>\n",
       "      <th>occupation_bin</th>\n",
       "      <th>msr_bin</th>\n",
       "      <th>capital_gl_bin</th>\n",
       "      <th>race_sex_bin</th>\n",
       "      <th>education_num_bin</th>\n",
       "      <th>education_bin</th>\n",
       "      <th>workclass_bin</th>\n",
       "      <th>age_bin</th>\n",
       "      <th>flag</th>\n",
       "      <th>y</th>\n",
       "    </tr>\n",
       "  </thead>\n",
       "  <tbody>\n",
       "    <tr>\n",
       "      <th>48837</th>\n",
       "      <td>b. 31-40</td>\n",
       "      <td>e. High</td>\n",
       "      <td>b. Mid</td>\n",
       "      <td>a. = 0</td>\n",
       "      <td>b. Mid</td>\n",
       "      <td>c. 13</td>\n",
       "      <td>c. Bachelors</td>\n",
       "      <td>b. income</td>\n",
       "      <td>d. 36-40 &amp; 56-60</td>\n",
       "      <td>test</td>\n",
       "      <td>0</td>\n",
       "    </tr>\n",
       "    <tr>\n",
       "      <th>48838</th>\n",
       "      <td>b. 31-40</td>\n",
       "      <td>b. Mid - Low</td>\n",
       "      <td>a. Low</td>\n",
       "      <td>a. = 0</td>\n",
       "      <td>b. Mid</td>\n",
       "      <td>b. 9-12</td>\n",
       "      <td>b. Mid</td>\n",
       "      <td>a. no income</td>\n",
       "      <td>c. 31-35 &amp; 61-70</td>\n",
       "      <td>test</td>\n",
       "      <td>0</td>\n",
       "    </tr>\n",
       "    <tr>\n",
       "      <th>48839</th>\n",
       "      <td>d. 41-50 &amp; 61-70</td>\n",
       "      <td>e. High</td>\n",
       "      <td>c. High</td>\n",
       "      <td>a. = 0</td>\n",
       "      <td>c. High</td>\n",
       "      <td>c. 13</td>\n",
       "      <td>c. Bachelors</td>\n",
       "      <td>b. income</td>\n",
       "      <td>d. 36-40 &amp; 56-60</td>\n",
       "      <td>test</td>\n",
       "      <td>0</td>\n",
       "    </tr>\n",
       "    <tr>\n",
       "      <th>48840</th>\n",
       "      <td>b. 31-40</td>\n",
       "      <td>b. Mid - Low</td>\n",
       "      <td>a. Low</td>\n",
       "      <td>c. &gt; 0</td>\n",
       "      <td>c. High</td>\n",
       "      <td>c. 13</td>\n",
       "      <td>c. Bachelors</td>\n",
       "      <td>b. income</td>\n",
       "      <td>e. 40-55</td>\n",
       "      <td>test</td>\n",
       "      <td>0</td>\n",
       "    </tr>\n",
       "    <tr>\n",
       "      <th>48841</th>\n",
       "      <td>e. 51-60</td>\n",
       "      <td>e. High</td>\n",
       "      <td>c. High</td>\n",
       "      <td>a. = 0</td>\n",
       "      <td>c. High</td>\n",
       "      <td>c. 13</td>\n",
       "      <td>c. Bachelors</td>\n",
       "      <td>b. income</td>\n",
       "      <td>c. 31-35 &amp; 61-70</td>\n",
       "      <td>test</td>\n",
       "      <td>1</td>\n",
       "    </tr>\n",
       "  </tbody>\n",
       "</table>\n",
       "</div>"
      ],
      "text/plain": [
       "      hours_per_week_bin occupation_bin  msr_bin capital_gl_bin race_sex_bin  \\\n",
       "48837           b. 31-40        e. High   b. Mid         a. = 0       b. Mid   \n",
       "48838           b. 31-40   b. Mid - Low   a. Low         a. = 0       b. Mid   \n",
       "48839   d. 41-50 & 61-70        e. High  c. High         a. = 0      c. High   \n",
       "48840           b. 31-40   b. Mid - Low   a. Low         c. > 0      c. High   \n",
       "48841           e. 51-60        e. High  c. High         a. = 0      c. High   \n",
       "\n",
       "      education_num_bin education_bin workclass_bin           age_bin  flag  y  \n",
       "48837             c. 13  c. Bachelors     b. income  d. 36-40 & 56-60  test  0  \n",
       "48838           b. 9-12        b. Mid  a. no income  c. 31-35 & 61-70  test  0  \n",
       "48839             c. 13  c. Bachelors     b. income  d. 36-40 & 56-60  test  0  \n",
       "48840             c. 13  c. Bachelors     b. income          e. 40-55  test  0  \n",
       "48841             c. 13  c. Bachelors     b. income  c. 31-35 & 61-70  test  1  "
      ]
     },
     "execution_count": 63,
     "metadata": {},
     "output_type": "execute_result"
    }
   ],
   "source": [
    "df.tail()"
   ]
  },
  {
   "cell_type": "code",
   "execution_count": 64,
   "metadata": {},
   "outputs": [
    {
     "data": {
      "text/html": [
       "<div>\n",
       "<style scoped>\n",
       "    .dataframe tbody tr th:only-of-type {\n",
       "        vertical-align: middle;\n",
       "    }\n",
       "\n",
       "    .dataframe tbody tr th {\n",
       "        vertical-align: top;\n",
       "    }\n",
       "\n",
       "    .dataframe thead th {\n",
       "        text-align: right;\n",
       "    }\n",
       "</style>\n",
       "<table border=\"1\" class=\"dataframe\">\n",
       "  <thead>\n",
       "    <tr style=\"text-align: right;\">\n",
       "      <th></th>\n",
       "      <th>y</th>\n",
       "    </tr>\n",
       "  </thead>\n",
       "  <tbody>\n",
       "    <tr>\n",
       "      <th>count</th>\n",
       "      <td>48842.000000</td>\n",
       "    </tr>\n",
       "    <tr>\n",
       "      <th>mean</th>\n",
       "      <td>0.239282</td>\n",
       "    </tr>\n",
       "    <tr>\n",
       "      <th>std</th>\n",
       "      <td>0.426649</td>\n",
       "    </tr>\n",
       "    <tr>\n",
       "      <th>min</th>\n",
       "      <td>0.000000</td>\n",
       "    </tr>\n",
       "    <tr>\n",
       "      <th>25%</th>\n",
       "      <td>0.000000</td>\n",
       "    </tr>\n",
       "    <tr>\n",
       "      <th>50%</th>\n",
       "      <td>0.000000</td>\n",
       "    </tr>\n",
       "    <tr>\n",
       "      <th>75%</th>\n",
       "      <td>0.000000</td>\n",
       "    </tr>\n",
       "    <tr>\n",
       "      <th>max</th>\n",
       "      <td>1.000000</td>\n",
       "    </tr>\n",
       "  </tbody>\n",
       "</table>\n",
       "</div>"
      ],
      "text/plain": [
       "                  y\n",
       "count  48842.000000\n",
       "mean       0.239282\n",
       "std        0.426649\n",
       "min        0.000000\n",
       "25%        0.000000\n",
       "50%        0.000000\n",
       "75%        0.000000\n",
       "max        1.000000"
      ]
     },
     "execution_count": 64,
     "metadata": {},
     "output_type": "execute_result"
    }
   ],
   "source": [
    "df.describe()"
   ]
  },
  {
   "cell_type": "markdown",
   "metadata": {},
   "source": [
    "# Exploratory data analysis based on the age bin"
   ]
  },
  {
   "cell_type": "code",
   "execution_count": 65,
   "metadata": {},
   "outputs": [
    {
     "data": {
      "text/plain": [
       "<matplotlib.legend.Legend at 0x2e9946b4550>"
      ]
     },
     "execution_count": 65,
     "metadata": {},
     "output_type": "execute_result"
    },
    {
     "data": {
      "image/png": "[encoded data removed]",
      "text/plain": [
       "<Figure size 432x288 with 1 Axes>"
      ]
     },
     "metadata": {},
     "output_type": "display_data"
    }
   ],
   "source": [
    "x_chart=df.pivot_table(values=['flag'],index=['age_bin'],columns=['y'],aggfunc='count')\n",
    "x_chart=x_chart.apply(lambda c: c / c.sum()*100,axis=1)\n",
    "x_chart.plot(kind=\"bar\",stacked=True)\n",
    "plt.legend(loc='center left',bbox_to_anchor=(1.0,0.6))"
   ]
  },
  {
   "cell_type": "code",
   "execution_count": 66,
   "metadata": {},
   "outputs": [
    {
     "data": {
      "text/plain": [
       "<matplotlib.legend.Legend at 0x2e994b5b278>"
      ]
     },
     "execution_count": 66,
     "metadata": {},
     "output_type": "execute_result"
    },
    {
     "data": {
      "image/png": "[encoded data removed]",
      "text/plain": [
       "<Figure size 432x288 with 1 Axes>"
      ]
     },
     "metadata": {},
     "output_type": "display_data"
    }
   ],
   "source": [
    "x_chart=df.pivot_table(values=['flag'],index=['workclass_bin'],columns=['y'],aggfunc='count')\n",
    "x_chart=x_chart.apply(lambda c: c / c.sum()*100,axis=1)\n",
    "x_chart.plot(kind=\"bar\",stacked=True)\n",
    "plt.legend(loc='center left',bbox_to_anchor=(1.0,0.6))"
   ]
  },
  {
   "cell_type": "code",
   "execution_count": 67,
   "metadata": {},
   "outputs": [
    {
     "data": {
      "text/plain": [
       "<matplotlib.legend.Legend at 0x2e994baaef0>"
      ]
     },
     "execution_count": 67,
     "metadata": {},
     "output_type": "execute_result"
    },
    {
     "data": {
      "image/png": "[encoded data removed]",
      "text/plain": [
       "<Figure size 432x288 with 1 Axes>"
      ]
     },
     "metadata": {},
     "output_type": "display_data"
    }
   ],
   "source": [
    "x_chart=df.pivot_table(values=['flag'],index=['education_bin'],columns=['y'],aggfunc='count')\n",
    "x_chart=x_chart.apply(lambda c: c / c.sum()*100,axis=1)\n",
    "x_chart.plot(kind=\"bar\",stacked=True)\n",
    "plt.legend(loc='center left',bbox_to_anchor=(1.0,0.6))"
   ]
  },
  {
   "cell_type": "code",
   "execution_count": 68,
   "metadata": {},
   "outputs": [
    {
     "data": {
      "text/plain": [
       "<matplotlib.legend.Legend at 0x2e994b42f98>"
      ]
     },
     "execution_count": 68,
     "metadata": {},
     "output_type": "execute_result"
    },
    {
     "data": {
      "image/png": "[encoded data removed]",
      "text/plain": [
       "<Figure size 432x288 with 1 Axes>"
      ]
     },
     "metadata": {},
     "output_type": "display_data"
    }
   ],
   "source": [
    "x_chart=df.pivot_table(values=['flag'],index=['education_num_bin'],columns=['y'],aggfunc='count')\n",
    "x_chart=x_chart.apply(lambda c: c / c.sum()*100,axis=1)\n",
    "x_chart.plot(kind=\"bar\",stacked=True)\n",
    "plt.legend(loc='center left',bbox_to_anchor=(1.0,0.6))"
   ]
  },
  {
   "cell_type": "code",
   "execution_count": 69,
   "metadata": {},
   "outputs": [
    {
     "data": {
      "text/plain": [
       "<matplotlib.legend.Legend at 0x2e994bece10>"
      ]
     },
     "execution_count": 69,
     "metadata": {},
     "output_type": "execute_result"
    },
    {
     "data": {
      "image/png": "[encoded data removed]",
      "text/plain": [
       "<Figure size 432x288 with 1 Axes>"
      ]
     },
     "metadata": {},
     "output_type": "display_data"
    }
   ],
   "source": [
    "x_chart=df.pivot_table(values=['flag'],index=['race_sex_bin'],columns=['y'],aggfunc='count')\n",
    "x_chart=x_chart.apply(lambda c: c / c.sum()*100,axis=1)\n",
    "x_chart.plot(kind=\"bar\",stacked=True)\n",
    "plt.legend(loc='center left',bbox_to_anchor=(1.0,0.6))"
   ]
  },
  {
   "cell_type": "code",
   "execution_count": 70,
   "metadata": {},
   "outputs": [
    {
     "data": {
      "text/plain": [
       "<matplotlib.legend.Legend at 0x2e995c609e8>"
      ]
     },
     "execution_count": 70,
     "metadata": {},
     "output_type": "execute_result"
    },
    {
     "data": {
      "image/png": "[encoded data removed]",
      "text/plain": [
       "<Figure size 432x288 with 1 Axes>"
      ]
     },
     "metadata": {},
     "output_type": "display_data"
    }
   ],
   "source": [
    "x_chart=df.pivot_table(values=['flag'],index=['capital_gl_bin'],columns=['y'],aggfunc='count')\n",
    "x_chart=x_chart.apply(lambda c: c / c.sum()*100,axis=1)\n",
    "x_chart.plot(kind=\"bar\",stacked=True)\n",
    "plt.legend(loc='center left',bbox_to_anchor=(1.0,0.6))"
   ]
  },
  {
   "cell_type": "code",
   "execution_count": 71,
   "metadata": {},
   "outputs": [
    {
     "data": {
      "text/plain": [
       "<matplotlib.legend.Legend at 0x2e995cbf208>"
      ]
     },
     "execution_count": 71,
     "metadata": {},
     "output_type": "execute_result"
    },
    {
     "data": {
      "image/png": "[encoded data removed]",
      "text/plain": [
       "<Figure size 432x288 with 1 Axes>"
      ]
     },
     "metadata": {},
     "output_type": "display_data"
    }
   ],
   "source": [
    "x_chart=df.pivot_table(values=['flag'],index=['msr_bin'],columns=['y'],aggfunc='count')\n",
    "x_chart=x_chart.apply(lambda c: c / c.sum()*100,axis=1)\n",
    "x_chart.plot(kind=\"bar\",stacked=True)\n",
    "plt.legend(loc='center left',bbox_to_anchor=(1.0,0.6))"
   ]
  },
  {
   "cell_type": "code",
   "execution_count": 72,
   "metadata": {},
   "outputs": [
    {
     "data": {
      "text/plain": [
       "<matplotlib.legend.Legend at 0x2e995c7cd68>"
      ]
     },
     "execution_count": 72,
     "metadata": {},
     "output_type": "execute_result"
    },
    {
     "data": {
      "image/png": "[encoded data removed]",
      "text/plain": [
       "<Figure size 432x288 with 1 Axes>"
      ]
     },
     "metadata": {},
     "output_type": "display_data"
    }
   ],
   "source": [
    "x_chart=df.pivot_table(values=['flag'],index=['occupation_bin'],columns=['y'],aggfunc='count')\n",
    "x_chart=x_chart.apply(lambda c: c / c.sum()*100,axis=1)\n",
    "x_chart.plot(kind=\"bar\",stacked=True)\n",
    "plt.legend(loc='center left',bbox_to_anchor=(1.0,0.6))"
   ]
  },
  {
   "cell_type": "code",
   "execution_count": null,
   "metadata": {},
   "outputs": [],
   "source": []
  },
  {
   "cell_type": "code",
   "execution_count": null,
   "metadata": {},
   "outputs": [],
   "source": []
  },
  {
   "cell_type": "code",
   "execution_count": null,
   "metadata": {},
   "outputs": [],
   "source": []
  },
  {
   "cell_type": "code",
   "execution_count": null,
   "metadata": {},
   "outputs": [],
   "source": []
  },
  {
   "cell_type": "code",
   "execution_count": null,
   "metadata": {},
   "outputs": [],
   "source": []
  },
  {
   "cell_type": "code",
   "execution_count": null,
   "metadata": {},
   "outputs": [],
   "source": []
  }
 ],
 "metadata": {
  "kernelspec": {
   "display_name": "Python 3",
   "language": "python",
   "name": "python3"
  },
  "language_info": {
   "codemirror_mode": {
    "name": "ipython",
    "version": 3
   },
   "file_extension": ".py",
   "mimetype": "text/x-python",
   "name": "python",
   "nbconvert_exporter": "python",
   "pygments_lexer": "ipython3",
   "version": "3.6.7"
  }
 },
 "nbformat": 4,
 "nbformat_minor": 2
}
